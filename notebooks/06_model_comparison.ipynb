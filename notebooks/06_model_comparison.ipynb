{
 "cells": [
  {
   "cell_type": "code",
   "execution_count": 4,
   "id": "1e8c01ae",
   "metadata": {},
   "outputs": [
    {
     "name": "stdout",
     "output_type": "stream",
     "text": [
      "model_type                   LinearRegression    ML\n",
      "month brand_model                                  \n",
      "1     Acura-RL                           11.0   NaN\n",
      "      BMW-323i                            NaN   2.0\n",
      "      Chevrolet-Malibu                    NaN   3.0\n",
      "      Mercury-Grand Marquis               NaN   6.0\n",
      "      Mitsubishi-Diamante                12.0   NaN\n",
      "...                                       ...   ...\n",
      "12    Acura-RL                            NaN  30.0\n",
      "      Dodge-Ram Pickup                   69.0   NaN\n",
      "      Mitsubishi-Diamante                69.0  33.0\n",
      "      Oldsmobile-Silhouette              74.0   NaN\n",
      "      Volkswagen-Passat                   NaN  25.0\n",
      "\n",
      "[69 rows x 2 columns]\n"
     ]
    },
    {
     "name": "stderr",
     "output_type": "stream",
     "text": [
      "/var/folders/0c/3b2dkdy1209_gm_z1sjrc81c0000gn/T/ipykernel_59819/2129464860.py:7: DeprecationWarning: DataFrameGroupBy.apply operated on the grouping columns. This behavior is deprecated, and in a future version of pandas the grouping columns will be excluded from the operation. Either pass `include_groups=False` to exclude the groupings or explicitly select the grouping columns after groupby to silence this warning.\n",
      "  ml_top3 = ml.groupby('month').apply(lambda x: x.nlargest(3, 'forecast_units')).reset_index(drop=True)\n",
      "/var/folders/0c/3b2dkdy1209_gm_z1sjrc81c0000gn/T/ipykernel_59819/2129464860.py:8: DeprecationWarning: DataFrameGroupBy.apply operated on the grouping columns. This behavior is deprecated, and in a future version of pandas the grouping columns will be excluded from the operation. Either pass `include_groups=False` to exclude the groupings or explicitly select the grouping columns after groupby to silence this warning.\n",
      "  lr_top3 = lr.groupby('month').apply(lambda x: x.nlargest(3, 'forecast_units')).reset_index(drop=True)\n"
     ]
    }
   ],
   "source": [
    "import pandas as pd\n",
    "\n",
    "ml = pd.read_csv('../output/ml_seasonal_forecast_2024.csv')\n",
    "lr = pd.read_csv('../output/seasonal_linear_regression_forecast_2024.csv')\n",
    "\n",
    "# For each month, get top 3 by forecast_units\n",
    "ml_top3 = ml.groupby('month').apply(lambda x: x.nlargest(3, 'forecast_units')).reset_index(drop=True)\n",
    "lr_top3 = lr.groupby('month').apply(lambda x: x.nlargest(3, 'forecast_units')).reset_index(drop=True)\n",
    "\n",
    "# Add a model label\n",
    "ml_top3['model_type'] = 'ML'\n",
    "lr_top3['model_type'] = 'LinearRegression'\n",
    "\n",
    "# Combine\n",
    "top3_combined = pd.concat([ml_top3, lr_top3], ignore_index=True)\n",
    "\n",
    "# Pivot for comparison\n",
    "pivot = top3_combined.pivot_table(index=['month', 'brand_model'], columns='model_type', values='forecast_units')\n",
    "\n",
    "print(pivot)"
   ]
  },
  {
   "cell_type": "code",
   "execution_count": 5,
   "id": "0176a6ff",
   "metadata": {},
   "outputs": [
    {
     "name": "stdout",
     "output_type": "stream",
     "text": [
      "Month 1:\n",
      "  ML Top 3: {'BMW-323i', 'Mercury-Grand Marquis', 'Chevrolet-Malibu'}\n",
      "  LR Top 3: {'Mitsubishi-Diamante', 'Acura-RL', 'Oldsmobile-Silhouette'}\n",
      "  Overlap: set()\n",
      "\n",
      "Month 2:\n",
      "  ML Top 3: {'BMW-323i', 'Mercury-Grand Marquis', 'Chevrolet-Malibu'}\n",
      "  LR Top 3: {'Mitsubishi-Diamante', 'Chevrolet-Prizm', 'Oldsmobile-Silhouette'}\n",
      "  Overlap: set()\n",
      "\n",
      "Month 3:\n",
      "  ML Top 3: {'BMW-323i', 'Mercury-Grand Marquis', 'Chevrolet-Malibu'}\n",
      "  LR Top 3: {'Mitsubishi-Diamante', 'Acura-RL', 'BMW-528i'}\n",
      "  Overlap: set()\n",
      "\n",
      "Month 4:\n",
      "  ML Top 3: {'Mercury-Grand Marquis', 'Acura-TL', 'Chevrolet-Malibu'}\n",
      "  LR Top 3: {'Chevrolet-Prizm', 'Volkswagen-Passat', 'BMW-528i'}\n",
      "  Overlap: set()\n",
      "\n",
      "Month 5:\n",
      "  ML Top 3: {'Mercury-Grand Marquis', 'Chevrolet-Malibu', 'Acura-TL'}\n",
      "  LR Top 3: {'Chrysler-LHS', 'Chevrolet-Prizm', 'BMW-528i'}\n",
      "  Overlap: set()\n",
      "\n",
      "Month 6:\n",
      "  ML Top 3: {'Mercury-Grand Marquis', 'Chevrolet-Malibu', 'Acura-TL'}\n",
      "  LR Top 3: {'Mitsubishi-Diamante', 'Volkswagen-Passat', 'Dodge-Ram Pickup'}\n",
      "  Overlap: set()\n",
      "\n",
      "Month 7:\n",
      "  ML Top 3: {'Mercury-Grand Marquis', 'Acura-TL', 'Chevrolet-Malibu'}\n",
      "  LR Top 3: {'Chrysler-LHS', 'Chevrolet-Prizm', 'Oldsmobile-Silhouette'}\n",
      "  Overlap: set()\n",
      "\n",
      "Month 8:\n",
      "  ML Top 3: {'BMW-323i', 'Mercury-Grand Marquis', 'Chevrolet-Malibu'}\n",
      "  LR Top 3: {'Chevrolet-Prizm', 'Oldsmobile-Silhouette', 'Dodge-Ram Pickup'}\n",
      "  Overlap: set()\n",
      "\n",
      "Month 9:\n",
      "  ML Top 3: {'Mitsubishi-Diamante', 'Acura-RL', 'Volkswagen-Passat'}\n",
      "  LR Top 3: {'Volkswagen-Jetta', 'Chevrolet-Prizm', 'Dodge-Ram Pickup'}\n",
      "  Overlap: set()\n",
      "\n",
      "Month 10:\n",
      "  ML Top 3: {'Mitsubishi-Diamante', 'Acura-RL', 'Volkswagen-Passat'}\n",
      "  LR Top 3: {'Volkswagen-Jetta', 'Volkswagen-Passat', 'Dodge-Ram Pickup'}\n",
      "  Overlap: {'Volkswagen-Passat'}\n",
      "\n",
      "Month 11:\n",
      "  ML Top 3: {'Mitsubishi-Diamante', 'Acura-RL', 'Volkswagen-Passat'}\n",
      "  LR Top 3: {'Mitsubishi-Diamante', 'Volkswagen-Jetta', 'Chevrolet-Prizm'}\n",
      "  Overlap: {'Mitsubishi-Diamante'}\n",
      "\n",
      "Month 12:\n",
      "  ML Top 3: {'Mitsubishi-Diamante', 'Acura-RL', 'Volkswagen-Passat'}\n",
      "  LR Top 3: {'Mitsubishi-Diamante', 'Oldsmobile-Silhouette', 'Dodge-Ram Pickup'}\n",
      "  Overlap: {'Mitsubishi-Diamante'}\n",
      "\n"
     ]
    }
   ],
   "source": [
    "for month in range(1, 13):\n",
    "    ml_set = set(ml_top3[ml_top3['month'] == month]['brand_model'])\n",
    "    lr_set = set(lr_top3[lr_top3['month'] == month]['brand_model'])\n",
    "    overlap = ml_set & lr_set\n",
    "    print(f\"Month {month}:\")\n",
    "    print(f\"  ML Top 3: {ml_set}\")\n",
    "    print(f\"  LR Top 3: {lr_set}\")\n",
    "    print(f\"  Overlap: {overlap}\\n\")"
   ]
  }
 ],
 "metadata": {
  "kernelspec": {
   "display_name": "dsi_participant",
   "language": "python",
   "name": "python3"
  },
  "language_info": {
   "codemirror_mode": {
    "name": "ipython",
    "version": 3
   },
   "file_extension": ".py",
   "mimetype": "text/x-python",
   "name": "python",
   "nbconvert_exporter": "python",
   "pygments_lexer": "ipython3",
   "version": "3.9.7"
  }
 },
 "nbformat": 4,
 "nbformat_minor": 5
}
